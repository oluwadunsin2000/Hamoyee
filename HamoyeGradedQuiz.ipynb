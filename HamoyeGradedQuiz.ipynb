{
  "nbformat": 4,
  "nbformat_minor": 0,
  "metadata": {
    "language_info": {
      "name": ""
    },
    "kernelspec": {
      "name": "",
      "display_name": ""
    },
    "colab": {
      "name": "HamoyeGradedQuiz.ipynb",
      "provenance": [],
      "include_colab_link": true
    }
  },
  "cells": [
    {
      "cell_type": "markdown",
      "metadata": {
        "id": "view-in-github",
        "colab_type": "text"
      },
      "source": [
        "<a href=\"https://colab.research.google.com/github/oluwadunsin2000/Hamoyee/blob/master/HamoyeGradedQuiz.ipynb\" target=\"_parent\"><img src=\"https://colab.research.google.com/assets/colab-badge.svg\" alt=\"Open In Colab\"/></a>"
      ]
    },
    {
      "cell_type": "code",
      "metadata": {
        "trusted": true,
        "id": "agA0Y5f-K3uc",
        "colab_type": "code",
        "colab": {}
      },
      "source": [
        "import numpy as np\n",
        "import pandas as pd"
      ],
      "execution_count": null,
      "outputs": []
    },
    {
      "cell_type": "code",
      "metadata": {
        "trusted": true,
        "id": "K2yyDla2K3uo",
        "colab_type": "code",
        "colab": {}
      },
      "source": [
        "fuel_data = pd.read_csv('https://bit.ly/HDSC-StageOneDataset')"
      ],
      "execution_count": null,
      "outputs": []
    },
    {
      "cell_type": "code",
      "metadata": {
        "trusted": true,
        "id": "hHr0LPGKK3ux",
        "colab_type": "code",
        "colab": {},
        "outputId": "26dc60bd-0d12-4be1-b2d1-3db1c28bcd3c"
      },
      "source": [
        "fuel_data.info()"
      ],
      "execution_count": null,
      "outputs": [
        {
          "output_type": "stream",
          "text": [
            "<class 'pandas.core.frame.DataFrame'>\n",
            "RangeIndex: 29523 entries, 0 to 29522\n",
            "Data columns (total 11 columns):\n",
            "record_id                       29523 non-null object\n",
            "utility_id_ferc1                29523 non-null int64\n",
            "report_year                     29523 non-null int64\n",
            "plant_name_ferc1                29523 non-null object\n",
            "fuel_type_code_pudl             29523 non-null object\n",
            "fuel_unit                       29343 non-null object\n",
            "fuel_qty_burned                 29523 non-null float64\n",
            "fuel_mmbtu_per_unit             29523 non-null float64\n",
            "fuel_cost_per_unit_burned       29523 non-null float64\n",
            "fuel_cost_per_unit_delivered    29523 non-null float64\n",
            "fuel_cost_per_mmbtu             29523 non-null float64\n",
            "dtypes: float64(5), int64(2), object(4)\n",
            "memory usage: 2.5+ MB\n"
          ],
          "name": "stdout"
        }
      ]
    },
    {
      "cell_type": "markdown",
      "metadata": {
        "id": "pLKpMQbhK3vK",
        "colab_type": "text"
      },
      "source": [
        "### QUESTION 6: The missing value features"
      ]
    },
    {
      "cell_type": "code",
      "metadata": {
        "trusted": true,
        "id": "3SWVq-AkK3vL",
        "colab_type": "code",
        "colab": {},
        "outputId": "0815fc51-75b2-4b3f-e0da-2de7d802b849"
      },
      "source": [
        "fuel_data.isnull().sum()"
      ],
      "execution_count": null,
      "outputs": [
        {
          "output_type": "execute_result",
          "data": {
            "text/plain": [
              "record_id                         0\n",
              "utility_id_ferc1                  0\n",
              "report_year                       0\n",
              "plant_name_ferc1                  0\n",
              "fuel_type_code_pudl               0\n",
              "fuel_unit                       180\n",
              "fuel_qty_burned                   0\n",
              "fuel_mmbtu_per_unit               0\n",
              "fuel_cost_per_unit_burned         0\n",
              "fuel_cost_per_unit_delivered      0\n",
              "fuel_cost_per_mmbtu               0\n",
              "dtype: int64"
            ]
          },
          "metadata": {
            "tags": []
          },
          "execution_count": 77
        }
      ]
    },
    {
      "cell_type": "code",
      "metadata": {
        "trusted": true,
        "id": "Z04SnjA4K3vX",
        "colab_type": "code",
        "colab": {},
        "outputId": "008fd2bb-5910-49b1-96d9-99da01ce16e2"
      },
      "source": [
        "(fuel_data['fuel_unit'].isnull().sum()/29523).round(3)"
      ],
      "execution_count": null,
      "outputs": [
        {
          "output_type": "execute_result",
          "data": {
            "text/plain": [
              "0.006"
            ]
          },
          "metadata": {
            "tags": []
          },
          "execution_count": 80
        }
      ]
    },
    {
      "cell_type": "code",
      "metadata": {
        "trusted": true,
        "id": "zoMVVRHlK3vk",
        "colab_type": "code",
        "colab": {},
        "outputId": "6ff181d0-f89f-4c49-8d18-7e479f2fe7e9"
      },
      "source": [
        "fuel_data = fuel_data.fillna({'fuel_unit': 'mcf'})\n",
        "fuel_data.isnull().sum()"
      ],
      "execution_count": null,
      "outputs": [
        {
          "output_type": "execute_result",
          "data": {
            "text/plain": [
              "record_id                       0\n",
              "utility_id_ferc1                0\n",
              "report_year                     0\n",
              "plant_name_ferc1                0\n",
              "fuel_type_code_pudl             0\n",
              "fuel_unit                       0\n",
              "fuel_qty_burned                 0\n",
              "fuel_mmbtu_per_unit             0\n",
              "fuel_cost_per_unit_burned       0\n",
              "fuel_cost_per_unit_delivered    0\n",
              "fuel_cost_per_mmbtu             0\n",
              "dtype: int64"
            ]
          },
          "metadata": {
            "tags": []
          },
          "execution_count": 81
        }
      ]
    },
    {
      "cell_type": "markdown",
      "metadata": {
        "id": "VYAg8wzKK3v0",
        "colab_type": "text"
      },
      "source": [
        "### QUESTION 3: The type code that has the average lowest cost per unit burned is 13.659397"
      ]
    },
    {
      "cell_type": "code",
      "metadata": {
        "trusted": true,
        "id": "VAevpZzNK3v1",
        "colab_type": "code",
        "colab": {},
        "outputId": "a509d564-30fd-4211-e9a6-ad3e9df35fbe"
      },
      "source": [
        "fuel_data.groupby(\"fuel_type_code_pudl\")['fuel_cost_per_unit_burned'].mean()"
      ],
      "execution_count": null,
      "outputs": [
        {
          "output_type": "execute_result",
          "data": {
            "text/plain": [
              "fuel_type_code_pudl\n",
              "coal         67.421830\n",
              "gas          13.659397\n",
              "nuclear    4955.157002\n",
              "oil         168.877086\n",
              "other        18.253856\n",
              "waste        19.518122\n",
              "Name: fuel_cost_per_unit_burned, dtype: float64"
            ]
          },
          "metadata": {
            "tags": []
          },
          "execution_count": 82
        }
      ]
    },
    {
      "cell_type": "markdown",
      "metadata": {
        "id": "CLs8Z-JwK3v8",
        "colab_type": "text"
      },
      "source": [
        "### QUESTION 4: The Standard deviation and 75th percentile of the measure of energy per unit (Fuel_mmbtu_per_unit) in two decimal places"
      ]
    },
    {
      "cell_type": "code",
      "metadata": {
        "trusted": true,
        "id": "aPUHoezoK3v-",
        "colab_type": "code",
        "colab": {},
        "outputId": "9af7dcf9-5009-4775-deb2-f3f575417443"
      },
      "source": [
        "np.std(fuel_data['fuel_mmbtu_per_unit']).round(2)"
      ],
      "execution_count": null,
      "outputs": [
        {
          "output_type": "execute_result",
          "data": {
            "text/plain": [
              "10.6"
            ]
          },
          "metadata": {
            "tags": []
          },
          "execution_count": 83
        }
      ]
    },
    {
      "cell_type": "code",
      "metadata": {
        "trusted": true,
        "id": "gO_w3_FvK3wI",
        "colab_type": "code",
        "colab": {},
        "outputId": "ec9b7945-6888-4709-b7a7-62722d55efd4"
      },
      "source": [
        "fuel_data['fuel_mmbtu_per_unit'].quantile(0.75)"
      ],
      "execution_count": null,
      "outputs": [
        {
          "output_type": "execute_result",
          "data": {
            "text/plain": [
              "17.006"
            ]
          },
          "metadata": {
            "tags": []
          },
          "execution_count": 84
        }
      ]
    },
    {
      "cell_type": "markdown",
      "metadata": {
        "id": "LcX6CFVWK3wL",
        "colab_type": "text"
      },
      "source": [
        "### QUESTION 5: The Skewness and Kurtosis for the fuel quantity burned in two decimal places"
      ]
    },
    {
      "cell_type": "code",
      "metadata": {
        "trusted": true,
        "id": "zm9MmQfLK3wM",
        "colab_type": "code",
        "colab": {},
        "outputId": "5eff646d-0cb2-4156-cea0-445ddf225795"
      },
      "source": [
        "fuel_data['fuel_qty_burned'].skew().round(2)"
      ],
      "execution_count": null,
      "outputs": [
        {
          "output_type": "execute_result",
          "data": {
            "text/plain": [
              "15.85"
            ]
          },
          "metadata": {
            "tags": []
          },
          "execution_count": 85
        }
      ]
    },
    {
      "cell_type": "code",
      "metadata": {
        "trusted": true,
        "id": "ltgBmTGzK3wQ",
        "colab_type": "code",
        "colab": {},
        "outputId": "06fb17a6-fa52-4502-c1f1-31f6c1d62329"
      },
      "source": [
        "fuel_data['fuel_qty_burned'].kurtosis().round(2)"
      ],
      "execution_count": null,
      "outputs": [
        {
          "output_type": "execute_result",
          "data": {
            "text/plain": [
              "651.37"
            ]
          },
          "metadata": {
            "tags": []
          },
          "execution_count": 86
        }
      ]
    },
    {
      "cell_type": "markdown",
      "metadata": {
        "id": "1BAPFBKlK3wY",
        "colab_type": "text"
      },
      "source": [
        "### QUESTION 9: the percentage change in the fuel cost per unit burned in 1998 compared to 1994"
      ]
    },
    {
      "cell_type": "code",
      "metadata": {
        "trusted": true,
        "id": "PGMNsFGLK3wZ",
        "colab_type": "code",
        "colab": {},
        "outputId": "f7e8d0c0-3128-4224-fa9f-d251dfe93eef"
      },
      "source": [
        "fuel_data.iloc[1994:1998]['fuel_cost_per_unit_burned'].pct_change()"
      ],
      "execution_count": null,
      "outputs": [
        {
          "output_type": "execute_result",
          "data": {
            "text/plain": [
              "1994         NaN\n",
              "1995   -1.000000\n",
              "1996         inf\n",
              "1997   -0.385512\n",
              "Name: fuel_cost_per_unit_burned, dtype: float64"
            ]
          },
          "metadata": {
            "tags": []
          },
          "execution_count": 87
        }
      ]
    },
    {
      "cell_type": "markdown",
      "metadata": {
        "id": "4MoycwQQK3wb",
        "colab_type": "text"
      },
      "source": [
        "### QUESTION 10: The year that has the highest average fuel cost per unit delivered"
      ]
    },
    {
      "cell_type": "code",
      "metadata": {
        "trusted": true,
        "id": "AZ-7kGFMK3wc",
        "colab_type": "code",
        "colab": {},
        "outputId": "58ba7298-fc7d-4100-c9a0-d6885082c8e3"
      },
      "source": [
        "fuel_data.groupby(\"report_year\")['fuel_cost_per_unit_delivered'].mean()"
      ],
      "execution_count": null,
      "outputs": [
        {
          "output_type": "execute_result",
          "data": {
            "text/plain": [
              "report_year\n",
              "1994       63.636060\n",
              "1995       32.735269\n",
              "1996     9196.705948\n",
              "1997    11140.197239\n",
              "1998      287.154420\n",
              "1999       25.551627\n",
              "2000      985.362877\n",
              "2001       60.050396\n",
              "2002       47.594361\n",
              "2003       55.663493\n",
              "2004      139.524275\n",
              "2005       41.438184\n",
              "2006       38.657484\n",
              "2007       43.325023\n",
              "2008       58.588197\n",
              "2009      652.694163\n",
              "2010       91.862105\n",
              "2011       59.774667\n",
              "2012       60.994502\n",
              "2013      172.307591\n",
              "2014      192.737183\n",
              "2015      326.535511\n",
              "2016      103.901761\n",
              "2017       46.196861\n",
              "2018      499.269966\n",
              "Name: fuel_cost_per_unit_delivered, dtype: float64"
            ]
          },
          "metadata": {
            "tags": []
          },
          "execution_count": 88
        }
      ]
    },
    {
      "cell_type": "code",
      "metadata": {
        "id": "HZ-g13GXK3wf",
        "colab_type": "code",
        "colab": {}
      },
      "source": [
        ""
      ],
      "execution_count": null,
      "outputs": []
    }
  ]
}